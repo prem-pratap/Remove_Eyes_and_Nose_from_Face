{
 "cells": [
  {
   "cell_type": "markdown",
   "metadata": {},
   "source": [
    "#Removeing eyes"
   ]
  },
  {
   "cell_type": "code",
   "execution_count": null,
   "metadata": {},
   "outputs": [],
   "source": [
    "\n",
    "#!/usr/bin/env python3\n",
    "import cv2\n",
    "import numpy as np\n",
    "import dlib\n",
    "import imutils\n",
    "\n",
    "cap=cv2.VideoCapture(0)\n",
    "detector=dlib.get_frontal_face_detector()\n",
    "predictor = dlib.shape_predictor(\"shape_predictor_68_face_landmarks.dat\")\t\n",
    "while cap.isOpened():\n",
    "    status,frame=cap.read()\n",
    "    gray=cv2.cvtColor(frame,cv2.COLOR_BGR2GRAY)\n",
    "    faces=detector(gray)\n",
    "    for face in faces:\n",
    "        x1=face.left()\n",
    "        y1=face.top()\n",
    "        x2=face.right()\n",
    "        y2=face.bottom()\n",
    "        cv2.rectangle(frame,(x1,y1),(x2,y2),(0,255,0),2)\n",
    "        landmarks=predictor(gray,face)\n",
    "        for i in range(0,68):\n",
    "            if i == 15:\n",
    "                x_eye=landmarks.part(i).x\n",
    "                y_eye=landmarks.part(i).y\n",
    "                #cv2.circle(frame,(x_eye,y_eye),3,(0,0,255),-1)\n",
    "            if i ==39:\n",
    "                nose_l_top_x=landmarks.part(i).x\n",
    "                nose_l_top_y=landmarks.part(i).y\n",
    "            \n",
    "            if i ==35:\n",
    "                nose_r_bot_x=landmarks.part(i).x\n",
    "                nose_r_bot_y=landmarks.part(i).y\n",
    "\n",
    "        cv2.rectangle(frame,(nose_l_top_x,nose_l_top_y),(nose_r_bot_x,nose_r_bot_y),(0,255,0),2)\n",
    "        eyes=frame[y1:y_eye,x1:x_eye]       \n",
    "    cv2.imshow(\"Detect\",frame)\n",
    "    cv2.imshow(\"Eyes\",eyes)\n",
    "    if cv2.waitKey(30) & 0xff==ord('q'):\n",
    "        break\n",
    "cv2.destroyAllWindows()\n",
    "cap.release()"
   ]
  },
  {
   "cell_type": "markdown",
   "metadata": {},
   "source": [
    "#Detecting landmarks using face recognition module"
   ]
  },
  {
   "cell_type": "code",
   "execution_count": 1,
   "metadata": {},
   "outputs": [],
   "source": [
    "#!/usr/bin/env python3\n",
    "import cv2\n",
    "import numpy as np\n",
    "import dlib\n",
    "import face_recognition as fr\n",
    "\n",
    "cap=cv2.VideoCapture(0)\n",
    "while cap.isOpened():\n",
    "    status,frame=cap.read()\n",
    "    rgb_frame=frame[:,:,::-1]\n",
    "    face_locations=fr.face_locations(rgb_frame)\n",
    "    landmarks=fr.face_landmarks(rgb_frame,face_locations)\n",
    "    #landmarks_as_tuples = [[(p.x, p.y) for p in landmark.parts()] for landmark in landmarks]\n",
    "    #print(landmarks)\n",
    "    for landmark in landmarks:\n",
    "        print(landmark)\n",
    "    #cv2.circle(frame,(x,y),3,(0,0,255),-1)\n",
    "    cv2.imshow(\"Detect\",frame)\n",
    "    if cv2.waitKey(30) & 0xff==ord('q'):\n",
    "        break\n",
    "cv2.destroyAllWindows()\n",
    "cap.release()"
   ]
  },
  {
   "cell_type": "markdown",
   "metadata": {},
   "source": [
    "#Final code to remove eyes and nose"
   ]
  },
  {
   "cell_type": "code",
   "execution_count": null,
   "metadata": {},
   "outputs": [],
   "source": [
    "#!/usr/bin/env python3\n",
    "import cv2\n",
    "import numpy as np\n",
    "import dlib\n",
    "\n",
    "\n",
    "cap=cv2.VideoCapture(0)\n",
    "detector=dlib.get_frontal_face_detector()\n",
    "predictor = dlib.shape_predictor(\"shape_predictor_68_face_landmarks.dat\")\t\n",
    "while cap.isOpened():\n",
    "    status,frame=cap.read()\n",
    "    gray=cv2.cvtColor(frame,cv2.COLOR_BGR2GRAY)\n",
    "    faces=detector(gray)\n",
    "    for face in faces:\n",
    "        x1=face.left()\n",
    "        y1=face.top()\n",
    "        x2=face.right()\n",
    "        y2=face.bottom()\n",
    "        #cv2.rectangle(frame,(x1,y1),(x2,y2),(0,255,0),2)\n",
    "        landmarks=predictor(gray,face)\n",
    "        for i in range(0,68):\n",
    "            if i == 15:\n",
    "                x_eye=landmarks.part(i).x\n",
    "                y_eye=landmarks.part(i).y\n",
    "                #cv2.circle(frame,(x_eye,y_eye),3,(0,0,255),-1)\n",
    "            if i ==39:\n",
    "                nose_l_top_x=landmarks.part(i).x\n",
    "                nose_l_top_y=landmarks.part(i).y\n",
    "            \n",
    "            if i ==35:\n",
    "                nose_r_bot_x=landmarks.part(i).x\n",
    "                nose_r_bot_y=landmarks.part(i).y\n",
    "\n",
    "        #cv2.rectangle(frame,(nose_l_top_x,nose_l_top_y),(nose_r_bot_x,nose_r_bot_y),(0,255,0),2)\n",
    "        eyes=frame[y1:y_eye,x1:x_eye]\n",
    "        nose=frame[nose_l_top_y:nose_r_bot_y,nose_l_top_x:nose_r_bot_x]\n",
    "    cv2.imshow(\"Detect\",frame)\n",
    "    cv2.imshow(\"Eyes\",eyes)\n",
    "    cv2.imshow(\"nose\",nose)\n",
    "    if cv2.waitKey(30) & 0xff==ord('q'):\n",
    "        break\n",
    "cv2.destroyAllWindows()\n",
    "cap.release()"
   ]
  },
  {
   "cell_type": "code",
   "execution_count": null,
   "metadata": {},
   "outputs": [],
   "source": []
  },
  {
   "cell_type": "code",
   "execution_count": null,
   "metadata": {},
   "outputs": [],
   "source": []
  }
 ],
 "metadata": {
  "kernelspec": {
   "display_name": "Python 3",
   "language": "python",
   "name": "python3"
  },
  "language_info": {
   "codemirror_mode": {
    "name": "ipython",
    "version": 3
   },
   "file_extension": ".py",
   "mimetype": "text/x-python",
   "name": "python",
   "nbconvert_exporter": "python",
   "pygments_lexer": "ipython3",
   "version": "3.6.8"
  }
 },
 "nbformat": 4,
 "nbformat_minor": 2
}
